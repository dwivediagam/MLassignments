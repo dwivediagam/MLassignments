{
 "cells": [
  {
   "cell_type": "code",
   "execution_count": 24,
   "metadata": {},
   "outputs": [],
   "source": [
    "import numpy as np\n",
    "import os\n",
    "import pandas as pd\n",
    "import matplotlib.pyplot as plt\n",
    "import string\n",
    "import math"
   ]
  },
  {
   "attachments": {},
   "cell_type": "markdown",
   "metadata": {},
   "source": [
    "## Question 3.1"
   ]
  },
  {
   "cell_type": "code",
   "execution_count": 5,
   "metadata": {},
   "outputs": [
    {
     "name": "stdout",
     "output_type": "stream",
     "text": [
      "['0', '1', '2', '3', '4', '5', '6', '7', '8', '9']\n",
      "10 10 10\n",
      "Prior probabilities:\n",
      "English:  0.3333333333333333\n",
      "Japanese:  0.3333333333333333\n",
      "Spanish:  0.3333333333333333\n"
     ]
    }
   ],
   "source": [
    "import os\n",
    "\n",
    "# Define the training data directory\n",
    "train_dir = \"languageID/\"\n",
    "\n",
    "\n",
    "charset = \"abcdefghijklmnopqrstuvwxyz \"\n",
    "files_char = [x for x in \"0123456789\"]\n",
    "print(files_char)\n",
    "\n",
    "alpha = 1/2\n",
    "\n",
    "e_ct = 0\n",
    "j_ct = 0\n",
    "s_ct= 0\n",
    "\n",
    "num_classes = 3\n",
    "for filename in os.listdir(train_dir):\n",
    "    \n",
    "    lang = filename[0]\n",
    "    #get the first 9 files for each language\n",
    "    file_chr = filename[1:filename.index('.txt')]\n",
    "    # print(file_chr)\n",
    "    \n",
    "    if lang == \"e\" and int(file_chr)<10:\n",
    "        e_ct += 1\n",
    "    elif lang == \"j\" and int(file_chr)<10:\n",
    "        j_ct += 1\n",
    "    elif lang == \"s\" and int(file_chr)<10:\n",
    "        s_ct += 1\n",
    "\n",
    "print(e_ct, j_ct, s_ct)\n",
    "\n",
    "ct = e_ct + j_ct + s_ct\n",
    "#prior probabilities with laplace smoothing\n",
    "e_prior = (e_ct + alpha) / (ct + alpha * num_classes)\n",
    "j_prior = (j_ct + alpha) / (ct + alpha * num_classes)\n",
    "s_prior = (s_ct + alpha) / (ct + alpha * num_classes)\n",
    "\n",
    "print(\"Prior probabilities:\")\n",
    "print(\"English: \", e_prior)\n",
    "print(\"Japanese: \", j_prior)\n",
    "print(\"Spanish: \", s_prior)"
   ]
  },
  {
   "attachments": {},
   "cell_type": "markdown",
   "metadata": {},
   "source": [
    "## Question 3.2"
   ]
  },
  {
   "cell_type": "code",
   "execution_count": 14,
   "metadata": {},
   "outputs": [
    {
     "name": "stdout",
     "output_type": "stream",
     "text": [
      "[0.06163156484080746, 0.011948257134393207, 0.021794636685522437, 0.022133194148598514, 0.1059543793818505, 0.019988996882450028, 0.016010946691306125, 0.04656575773392205, 0.05471934996967089, 0.0008605002186516949, 0.003992156752105404, 0.030145720774732328, 0.02216140727052152, 0.05742780967427951, 0.06507356571541424, 0.016405930398228217, 0.0006912214871136566, 0.05054380792506595, 0.06377576210695594, 0.08329924247767637, 0.02565983438897431, 0.00918337118593858, 0.015474897374769005, 0.0011990576817277716, 0.013387126352466533, 0.0005219427555756182, 0.17944956199128215]\n"
     ]
    }
   ],
   "source": [
    "\n",
    "charset = \"abcdefghijklmnopqrstuvwxyz \"\n",
    "char_list = {char:0 for char in charset}\n",
    "for filename in os.listdir(train_dir):\n",
    "   lang = filename[0]\n",
    "   if lang == \"e\":\n",
    "      filepath = \"languageID/\" + filename\n",
    "      with open(filepath) as file:\n",
    "         for line in file:\n",
    "            for char in line:\n",
    "               if char not in char_list:\n",
    "                  continue\n",
    "               else:\n",
    "\n",
    "                  char_list[char] += 1\n",
    "\n",
    "\n",
    "num_e = sum(char_list.values())\n",
    "#print(num_e)\n",
    "theta_e = [(char_list[char] + alpha) / (num_e + 27*alpha) for char in charset]\n",
    "#print(theta_e)\n",
    "print(theta_e)"
   ]
  },
  {
   "cell_type": "code",
   "execution_count": 15,
   "metadata": {},
   "outputs": [
    {
     "name": "stdout",
     "output_type": "stream",
     "text": [
      "[0.0616, 0.0119, 0.0218, 0.0221, 0.106, 0.02, 0.016, 0.0466, 0.0547, 0.0009, 0.004, 0.0301, 0.0222, 0.0574, 0.0651, 0.0164, 0.0007, 0.0505, 0.0638, 0.0833, 0.0257, 0.0092, 0.0155, 0.0012, 0.0134, 0.0005, 0.1794]\n"
     ]
    }
   ],
   "source": [
    "theta_e = [round(x, 4) for x in theta_e]\n",
    "print(theta_e)"
   ]
  },
  {
   "attachments": {},
   "cell_type": "markdown",
   "metadata": {},
   "source": [
    "## Question 3.3"
   ]
  },
  {
   "cell_type": "code",
   "execution_count": 16,
   "metadata": {},
   "outputs": [
    {
     "name": "stdout",
     "output_type": "stream",
     "text": [
      "[0.13212646167171935, 0.00992637505413599, 0.005214378518839324, 0.016370723256821134, 0.059991338241663056, 0.0034820268514508443, 0.014880900822867043, 0.031476829796448676, 0.09896925075790386, 0.0020961455175400605, 0.05718492854049372, 0.001195322650498051, 0.04083152880034647, 0.056942399307059334, 0.090376786487657, 0.0007102641836292768, 5.1970550021654394e-05, 0.04259852750108272, 0.04259852750108272, 0.05798181030749242, 0.07028150714595063, 0.00019055868341273278, 0.020285838025119098, 1.7323516673884798e-05, 0.013841489822433954, 0.007743611953226505, 0.12263317453443048]\n",
      "[0.1321, 0.0099, 0.0052, 0.0164, 0.06, 0.0035, 0.0149, 0.0315, 0.099, 0.0021, 0.0572, 0.0012, 0.0408, 0.0569, 0.0904, 0.0007, 0.0001, 0.0426, 0.0426, 0.058, 0.0703, 0.0002, 0.0203, 0.0, 0.0138, 0.0077, 0.1226]\n",
      "[0.10653656355302873, 0.009598032483191465, 0.03674720922433205, 0.040484213552230225, 0.11234968139642589, 0.007362217928038712, 0.007202516888384944, 0.0047750610856476675, 0.05000239551559481, 0.006723413769423639, 0.00023955155948065222, 0.05313253589280866, 0.02470575083443793, 0.0543462637941773, 0.07076353067058466, 0.02416276729961512, 0.007745500423207755, 0.058530431033106026, 0.06635578197614067, 0.03534184007537889, 0.034990497788140604, 0.005924908571154798, 0.00027149176741140586, 0.002571186738425667, 0.007394158135969465, 0.0033058115208330005, 0.16843668652282925]\n",
      "[0.1065, 0.0096, 0.0367, 0.0405, 0.1123, 0.0074, 0.0072, 0.0048, 0.05, 0.0067, 0.0002, 0.0531, 0.0247, 0.0543, 0.0708, 0.0242, 0.0077, 0.0585, 0.0664, 0.0353, 0.035, 0.0059, 0.0003, 0.0026, 0.0074, 0.0033, 0.1684]\n"
     ]
    }
   ],
   "source": [
    "\n",
    "#For japanese and spanish\n",
    "charset = \"abcdefghijklmnopqrstuvwxyz \"\n",
    "char_list = {char:0 for char in charset}\n",
    "for filename in os.listdir(train_dir):\n",
    "   lang = filename[0]\n",
    "   if lang == \"j\":\n",
    "      filepath = \"languageID/\" + filename\n",
    "      with open(filepath) as file:\n",
    "         for line in file:\n",
    "            for char in line:\n",
    "               if char not in char_list:\n",
    "                  continue\n",
    "               else:\n",
    "\n",
    "                  char_list[char] += 1\n",
    "\n",
    "\n",
    "num_j = sum(char_list.values())\n",
    "\n",
    "theta_j = [(char_list[char] + alpha) / (num_j + 27*alpha) for char in charset]\n",
    "\n",
    "print(theta_j)\n",
    "\n",
    "theta_j = [round(x, 4) for x in theta_j]\n",
    "print(theta_j)\n",
    "\n",
    "char_list = {char:0 for char in charset}\n",
    "for filename in os.listdir(train_dir):\n",
    "   lang = filename[0]\n",
    "   if lang == \"s\":\n",
    "      filepath = \"languageID/\" + filename\n",
    "      with open(filepath) as file:\n",
    "         for line in file:\n",
    "            for char in line:\n",
    "               if char not in char_list:\n",
    "                  continue\n",
    "               else:\n",
    "\n",
    "                  char_list[char] += 1\n",
    "\n",
    "\n",
    "num_s = sum(char_list.values())\n",
    "\n",
    "theta_s = [(char_list[char] + alpha) / (num_s + 27*alpha) for char in charset]\n",
    "\n",
    "print(theta_s)\n",
    "\n",
    "theta_s = [round(x, 4) for x in theta_s]\n",
    "print(theta_s)"
   ]
  },
  {
   "attachments": {},
   "cell_type": "markdown",
   "metadata": {},
   "source": [
    "## Question 3.4"
   ]
  },
  {
   "cell_type": "code",
   "execution_count": 18,
   "metadata": {},
   "outputs": [
    {
     "name": "stdout",
     "output_type": "stream",
     "text": [
      "[164, 32, 53, 57, 311, 55, 51, 140, 140, 3, 6, 85, 64, 139, 182, 53, 3, 141, 186, 225, 65, 31, 47, 4, 38, 2, 498]\n"
     ]
    }
   ],
   "source": [
    "#Vocab refer to the number of characters in the dataset\n",
    "vocab = [x for x in charset]\n",
    "with open('languageID/e10.txt', 'r', encoding='utf-8') as file:\n",
    "    text = file.read()\n",
    "\n",
    "v = [0] * len(vocab)\n",
    "for word in text:\n",
    "    if word in vocab:\n",
    "        i = vocab.index(word)\n",
    "        v[i] += 1\n",
    "\n",
    "print(v)"
   ]
  },
  {
   "attachments": {},
   "cell_type": "markdown",
   "metadata": {},
   "source": [
    "## Question 3.5"
   ]
  },
  {
   "cell_type": "code",
   "execution_count": 29,
   "metadata": {},
   "outputs": [
    {
     "name": "stdout",
     "output_type": "stream",
     "text": [
      "{'e': -7841.865447060636, 'j': -8771.433079075032, 's': -8467.282044010557}\n",
      "-7841.865447060636 0.0\n",
      "-8771.433079075032 0.0\n",
      "-8467.282044010557 0.0\n",
      "{'e': 0.0, 'j': 0.0, 's': 0.0}\n"
     ]
    }
   ],
   "source": [
    "## Taking e10.txt as the text document\n",
    "\n",
    "vocab = \"abcdefghijklmnopqrstuvwxyz \"\n",
    "labels = [\"e\", \"j\", \"s\"]\n",
    "alpha = 0.5\n",
    "files_char = [x for x in \"0123456789\"]\n",
    "charcter_count_arr = {label: np.zeros(len(vocab)) for label in labels}\n",
    "\n",
    "# Each character count\n",
    "for filename in os.listdir(\"languageID\"):\n",
    "    file_chr = filename[1:filename.index('.txt')]\n",
    "    ## Take only the training data\n",
    "    if int(file_chr)<10:\n",
    "        label = filename[0]\n",
    "        with open(os.path.join(\"languageID/\", filename)) as f:\n",
    "            text = f.read().lower()\n",
    "            for char in text:\n",
    "                if char in vocab:\n",
    "                    charcter_count_arr[label][vocab.index(char)] += 1\n",
    "\n",
    "class_totals = {label: np.sum(charcter_count_arr[label]) for label in labels}\n",
    "# print(class_totals)\n",
    "\n",
    "# Prior probability\n",
    "prior_probs = {label: (np.sum([filename.startswith(label) for filename in os.listdir(\"languageID/\")]) + alpha) \n",
    "               / (len(os.listdir(\"languageID/\")) + alpha * len(labels)) for label in labels}\n",
    "# print(prior_probs)\n",
    "\n",
    "cond_probs = {label: np.log((charcter_count_arr[label] + alpha) / (class_totals[label] + alpha * len(vocab))) for label in labels}\n",
    "# print(cond_probs)\n",
    "\n",
    "# Test document\n",
    "with open(\"languageID/e10.txt\") as f:\n",
    "    text = f.read().lower()\n",
    "\n",
    "likelihoods = {label: np.sum([cond_probs[label][vocab.index(char)] for char in text if char in vocab]) for label in labels}\n",
    "print(likelihoods)\n",
    "likelihood_exp = {}\n",
    "for x in likelihoods:\n",
    "    ans = np.exp(likelihoods[x])\n",
    "    print(likelihoods[x], ans)\n",
    "    likelihood_exp[x] = ans\n",
    "print(likelihood_exp)"
   ]
  },
  {
   "attachments": {},
   "cell_type": "markdown",
   "metadata": {},
   "source": [
    "## Question 3.6"
   ]
  },
  {
   "cell_type": "code",
   "execution_count": 30,
   "metadata": {},
   "outputs": [
    {
     "name": "stdout",
     "output_type": "stream",
     "text": [
      "{'e': -7842.964059349304, 'j': -8772.5316913637, 's': -8468.380656299225}\n",
      "-7841.865447060636 0.0\n",
      "-8771.433079075032 0.0\n",
      "-8467.282044010557 0.0\n",
      "{'e': 0.0, 'j': 0.0, 's': 0.0}\n"
     ]
    }
   ],
   "source": [
    "## From the previous answe\n",
    "posterior_probs = {label: np.log(prior_probs[label]) + likelihoods[label] for label in labels}\n",
    "print(posterior_probs)\n",
    "\n",
    "# Converting it into the exponential distribution\n",
    "posterior_exp = {}\n",
    "for x in likelihoods:\n",
    "    ans = np.exp(likelihoods[x])\n",
    "    print(likelihoods[x], ans)\n",
    "    posterior_exp[x] = ans\n",
    "print(posterior_exp)"
   ]
  },
  {
   "attachments": {},
   "cell_type": "markdown",
   "metadata": {},
   "source": [
    "## Question 3.7"
   ]
  },
  {
   "cell_type": "code",
   "execution_count": 44,
   "metadata": {},
   "outputs": [
    {
     "name": "stdout",
     "output_type": "stream",
     "text": [
      "Confusion matrix:\n",
      "\te\tj\ts\n",
      "e:\t10\t0\t0\n",
      "j:\t0\t10\t0\n",
      "s:\t0\t0\t10\n",
      "1.0\n"
     ]
    }
   ],
   "source": [
    "import os\n",
    "\n",
    "# Load test set files and extract true class labels and bag-of-characters representations\n",
    "files_char = [x for x in \"0123456789\"]\n",
    "true_labels = []\n",
    "predicted_labels = []\n",
    "\n",
    "files = ['10.txt', '11.txt', '12.txt', '13.txt', '14.txt', '15.txt', '16.txt', '17.txt', '18.txt', '19.txt']\n",
    "for file in files:\n",
    "    # file_chr = file[1:file.index('.txt')]\n",
    "    # print(file_chr)\n",
    "    # if int(file_chr)>=10:\n",
    "    for i in ['s', 'j', 'e']:\n",
    "        # Load the document to be classified\n",
    "        true_label = i\n",
    "        true_labels.append(true_label)\n",
    "        filename = \"languageID/\" + i + file\n",
    "        with open(filename) as f:\n",
    "            text = f.read()\n",
    "\n",
    "        likelihood = {label: np.sum([cond_probs[label][vocab.index(char)] for char in text if char in vocab]) for label in labels}\n",
    "        predicted_label = max(likelihood, key=likelihood.get)\n",
    "        likelihood.clear()\n",
    "        predicted_labels.append(predicted_label)\n",
    "\n",
    "# Generate confusion matrix\n",
    "confusion_matrix = np.zeros((len(labels), len(labels)))\n",
    "\n",
    "\n",
    "docs = 30\n",
    "\n",
    "for i in range(docs):\n",
    "    true_label = true_labels[i]\n",
    "    predicted_label = predicted_labels[i]\n",
    "    true_idx = labels.index(true_label)\n",
    "    pred_idx = labels.index(predicted_label)\n",
    "    confusion_matrix[true_idx][pred_idx] += 1\n",
    "\n",
    "\n",
    "print('Confusion matrix:')\n",
    "print('\\t' + '\\t'.join(labels))\n",
    "for i in range(len(labels)):\n",
    "    print(f'{labels[i]}:\\t' + '\\t'.join([str(int(x)) for x in confusion_matrix[i]]))\n",
    "\n",
    "acc = np.sum(np.diag(confusion_matrix)) / np.sum(confusion_matrix)\n",
    "print(acc)"
   ]
  },
  {
   "attachments": {},
   "cell_type": "markdown",
   "metadata": {},
   "source": [
    "## Question 4.2"
   ]
  },
  {
   "cell_type": "code",
   "execution_count": 17,
   "metadata": {},
   "outputs": [
    {
     "name": "stdout",
     "output_type": "stream",
     "text": [
      "Epoch 1, train_loss: 53.4099287438623\n",
      "Epoch 2, train_loss: 26.398608211436724\n",
      "Epoch 3, train_loss: 21.492543454218104\n",
      "Epoch 4, train_loss: 18.743322654431527\n",
      "Epoch 5, train_loss: 16.795136601814328\n",
      "Epoch 6, train_loss: 15.348875629594781\n",
      "Epoch 7, train_loss: 14.174540592695331\n",
      "Epoch 8, train_loss: 13.246815554409364\n",
      "Epoch 9, train_loss: 12.426512363740303\n",
      "Epoch 10, train_loss: 11.70447554507901\n"
     ]
    }
   ],
   "source": [
    "## Help from chatgpt and other online resources\n",
    "import torch\n",
    "import torch.nn as nn\n",
    "import torch.optim as optim\n",
    "import torchvision\n",
    "import torchvision.transforms as transforms\n",
    "\n",
    "# Download and load the MNIST dataset using PyTorch\n",
    "transform = transforms.Compose([transforms.ToTensor(), transforms.Normalize((0.5,), (0.5,))])\n",
    "\n",
    "trainset = torchvision.datasets.MNIST(root='./data', train=True, download=True, transform=transform)\n",
    "trainloader = torch.utils.data.DataLoader(trainset, batch_size=64, shuffle=True)\n",
    "\n",
    "testset = torchvision.datasets.MNIST(root='./data', train=False, download=True, transform=transform)\n",
    "testloader = torch.utils.data.DataLoader(testset, batch_size=64, shuffle=False)\n",
    "\n",
    "# Sigmoid activation function\n",
    "def sigmoid(x):\n",
    "    return 1 / (1 + np.exp(-x))\n",
    "\n",
    "# Softmax activation function\n",
    "def softmax(z):\n",
    "    exp_z = np.exp(z)\n",
    "    return exp_z / np.sum(exp_z, axis=0, keepdims=True)\n",
    "\n",
    "# Define the cross-entropy loss function\n",
    "def cross_entropy_loss(y, y_hat):\n",
    "    return -np.sum(y * np.log(y_hat))\n",
    "\n",
    "# Training parameters\n",
    "learning_rate = 0.1\n",
    "num_epochs = 10\n",
    "batch_size = 64\n",
    "\n",
    "# Set the dimensions of the layers\n",
    "input_size = 28*28\n",
    "hidden_size = 300\n",
    "output_size = 10\n",
    "\n",
    "# Initialize the weights randomly\n",
    "W1 = np.random.uniform(-1, 1, size=(hidden_size, input_size))\n",
    "W2 = np.random.uniform(-1, 1, size=(output_size, hidden_size))\n",
    "\n",
    "# Set the learning rate and number of epochs\n",
    "lr = 0.1\n",
    "n_epochs = 10\n",
    "\n",
    "train_loss_history = []\n",
    "# Train the network\n",
    "for epoch in range(n_epochs):\n",
    "    train_loss = 0\n",
    "    for i, (X, y) in enumerate(trainloader):\n",
    "        X = X.reshape(-1, input_size)\n",
    "        y = torch.nn.functional.one_hot(y, num_classes=output_size).numpy()\n",
    "        \n",
    "        # Forward pass\n",
    "        z1 = np.dot(X, W1.T)\n",
    "        a1 = sigmoid(z1)\n",
    "        z2 = np.dot(a1, W2.T)\n",
    "        y_hat = softmax(z2.T)\n",
    "        \n",
    "        # Compute the loss\n",
    "        loss = cross_entropy_loss(y.T, y_hat)\n",
    "        train_loss += loss\n",
    "        \n",
    "        # Backward pass\n",
    "        delta2 = y_hat - y.T\n",
    "        delta1 = np.dot(delta2.T, W2) * a1 * (1 - a1)\n",
    "        dW2 = np.dot(delta2, a1) / X.shape[0]\n",
    "        dW1 = np.dot(delta1.T, X) / X.shape[0]\n",
    "        \n",
    "        # Update the weights\n",
    "        W1 -= lr * dW1\n",
    "        W2 -= lr * dW2\n",
    "        \n",
    "    train_loss /= len(trainloader)\n",
    "    train_loss_history.append(train_loss)\n",
    "    print(f'Epoch {epoch+1}, train_loss: {train_loss}')\n"
   ]
  },
  {
   "cell_type": "code",
   "execution_count": 18,
   "metadata": {},
   "outputs": [
    {
     "name": "stdout",
     "output_type": "stream",
     "text": [
      "[53.4099287438623, 26.398608211436724, 21.492543454218104, 18.743322654431527, 16.795136601814328, 15.348875629594781, 14.174540592695331, 13.246815554409364, 12.426512363740303, 11.70447554507901]\n"
     ]
    },
    {
     "data": {
      "image/png": "[encoded data removed]",
      "text/plain": [
       "<Figure size 640x480 with 1 Axes>"
      ]
     },
     "metadata": {},
     "output_type": "display_data"
    }
   ],
   "source": [
    "# Plot results\n",
    "import matplotlib\n",
    "import matplotlib.pyplot as plt\n",
    "import numpy as np\n",
    "plt.plot(np.arange(1, 11, 1) , train_loss_history)\n",
    "plt.xlabel(\"Epoch\")\n",
    "plt.ylabel(\"Train loss\")\n",
    "print(train_loss_history)"
   ]
  },
  {
   "cell_type": "code",
   "execution_count": 20,
   "metadata": {},
   "outputs": [
    {
     "name": "stdout",
     "output_type": "stream",
     "text": [
      "12.053587593719705\n",
      "-0.5365155503507868\n",
      "9.016180555379789\n"
     ]
    },
    {
     "data": {
      "text/plain": [
       "14.246087512361711"
      ]
     },
     "execution_count": 20,
     "metadata": {},
     "output_type": "execute_result"
    }
   ],
   "source": [
    "testloss = 0\n",
    "\n",
    "prev_loss = 0\n",
    "\n",
    "for i, (X, y) in enumerate(testloader):\n",
    "    X = X.reshape(-1, input_size)\n",
    "    y = torch.nn.functional.one_hot(y, num_classes=output_size).numpy()\n",
    "          \n",
    "    # Forward pass\n",
    "    z1 = np.dot(X, W1.T)\n",
    "    a1 = sigmoid(z1)\n",
    "    z2 = np.dot(a1, W2.T)\n",
    "    y_hat = softmax(z2.T)\n",
    "          \n",
    "    # Compute the loss\n",
    "    loss = cross_entropy_loss(y.T, y_hat)\n",
    "    testloss += loss\n",
    "    if i%64==0:\n",
    "        loss_new_batch = loss-prev_loss\n",
    "        print(loss_new_batch)\n",
    "        prev_loss = loss_new_batch\n",
    "        \n",
    "testloss /= len(testloader)\n",
    "testloss"
   ]
  },
  {
   "attachments": {},
   "cell_type": "markdown",
   "metadata": {},
   "source": [
    "## Question 4.3"
   ]
  },
  {
   "cell_type": "code",
   "execution_count": 21,
   "metadata": {},
   "outputs": [
    {
     "name": "stdout",
     "output_type": "stream",
     "text": [
      "Epoch 1, Loss: 2.0615909916759807\n",
      "Epoch 2, Loss: 1.780327030209336\n",
      "Epoch 3, Loss: 1.7046862789816948\n",
      "Epoch 4, Loss: 1.6537601763505672\n",
      "Epoch 5, Loss: 1.6402590630659417\n",
      "Epoch 6, Loss: 1.6329381080832817\n",
      "Epoch 7, Loss: 1.6281848703620276\n",
      "Epoch 8, Loss: 1.6246345948054592\n",
      "Epoch 9, Loss: 1.6216517351329454\n",
      "Epoch 10, Loss: 1.6193161153081637\n",
      "Accuracy on the test dataset: 85.51%\n"
     ]
    }
   ],
   "source": [
    "\n",
    "\n",
    "import torch\n",
    "import torch.nn as nn\n",
    "import torch.optim as optim\n",
    "import torchvision\n",
    "import torchvision.transforms as transforms\n",
    "\n",
    "# Download and load the MNIST dataset using PyTorch\n",
    "transform = transforms.Compose([transforms.ToTensor(), transforms.Normalize((0.5,), (0.5,))])\n",
    "\n",
    "trainset = torchvision.datasets.MNIST(root='./data', train=True, download=True, transform=transform)\n",
    "trainloader = torch.utils.data.DataLoader(trainset, batch_size=64, shuffle=True)\n",
    "\n",
    "testset = torchvision.datasets.MNIST(root='./data', train=False, download=True, transform=transform)\n",
    "testloader = torch.utils.data.DataLoader(testset, batch_size=64, shuffle=False)\n",
    "\n",
    "# Define the two-layer neural network\n",
    "class TwoLayerNet(nn.Module):\n",
    "    def __init__(self, input_size, hidden_size, output_size):\n",
    "        super(TwoLayerNet, self).__init__()\n",
    "        self.fc1 = nn.Linear(input_size, hidden_size)\n",
    "        self.sigmoid = nn.Sigmoid()\n",
    "        self.fc2 = nn.Linear(hidden_size, output_size)\n",
    "        self.softmax = nn.Softmax(dim=1)\n",
    "\n",
    "    def forward(self, x):\n",
    "        x = self.fc1(x)\n",
    "        x = self.sigmoid(x)\n",
    "        x = self.fc2(x)\n",
    "        x = self.softmax(x)\n",
    "        return x\n",
    "\n",
    "# Initialize the neural network\n",
    "input_size = 28 * 28\n",
    "hidden_size = 300\n",
    "output_size = 10\n",
    "net = TwoLayerNet(input_size, hidden_size, output_size)\n",
    "\n",
    "# Define the loss function and optimizer\n",
    "criterion = nn.CrossEntropyLoss()\n",
    "optimizer = optim.SGD(net.parameters(), lr=0.1)\n",
    "\n",
    "# Training loop\n",
    "num_epochs = 10\n",
    "loss_list = []\n",
    "for epoch in range(num_epochs):\n",
    "    running_loss = 0.0\n",
    "    for data in trainloader:\n",
    "        inputs, labels = data\n",
    "        inputs = inputs.view(-1, input_size)\n",
    "        optimizer.zero_grad()\n",
    "        outputs = net(inputs)\n",
    "        loss = criterion(outputs, labels)\n",
    "        loss.backward()\n",
    "        optimizer.step()\n",
    "        running_loss += loss.item()\n",
    "    loss_list.append(running_loss/len(trainloader))\n",
    "    print(f'Epoch {epoch + 1}, Loss: {running_loss / len(trainloader)}')\n",
    "\n",
    "# Test the neural network\n",
    "correct = 0\n",
    "total = 0\n",
    "\n",
    "with torch.no_grad():\n",
    "    for data in testloader:\n",
    "        images, labels = data\n",
    "        images = images.view(-1, input_size)\n",
    "        outputs = net(images)\n",
    "        _, predicted = torch.max(outputs.data, 1)\n",
    "        total += labels.size(0)\n",
    "        correct += (predicted == labels).sum().item()\n",
    "\n",
    "print(f'Accuracy on the test dataset: {100 * correct / total}%')\n",
    "\n"
   ]
  },
  {
   "cell_type": "code",
   "execution_count": 22,
   "metadata": {},
   "outputs": [
    {
     "name": "stdout",
     "output_type": "stream",
     "text": [
      "[2.0615909916759807, 1.780327030209336, 1.7046862789816948, 1.6537601763505672, 1.6402590630659417, 1.6329381080832817, 1.6281848703620276, 1.6246345948054592, 1.6216517351329454, 1.6193161153081637]\n"
     ]
    },
    {
     "data": {
      "image/png": "[encoded data removed]",
      "text/plain": [
       "<Figure size 640x480 with 1 Axes>"
      ]
     },
     "metadata": {},
     "output_type": "display_data"
    }
   ],
   "source": [
    "# Plot results\n",
    "import matplotlib\n",
    "import matplotlib.pyplot as plt\n",
    "import numpy as np\n",
    "plt.plot(np.arange(1, 11, 1) , loss_list)\n",
    "plt.xlabel(\"Epoch\")\n",
    "plt.ylabel(\"Train loss\")\n",
    "print(loss_list)"
   ]
  },
  {
   "cell_type": "code",
   "execution_count": 24,
   "metadata": {},
   "outputs": [
    {
     "name": "stdout",
     "output_type": "stream",
     "text": [
      "1.6019313335418701\n",
      "1.5979959964752197\n",
      "1.5663931369781494\n",
      "\n",
      "Test set: Average loss: 0.0253, Accuracy: 8551/10000 (86%)\n",
      "\n"
     ]
    }
   ],
   "source": [
    "\n",
    "\n",
    "net.eval()\n",
    "test_loss = 0\n",
    "correct = 0\n",
    "test_losses = []\n",
    "c = 0\n",
    "with torch.no_grad():\n",
    "    for data in testloader:\n",
    "        c+=1\n",
    "        # data, target = data, target\n",
    "        # output = net(data)\n",
    "        images, labels = data\n",
    "        images = images.view(-1, input_size)\n",
    "        outputs = net(images)\n",
    "        loss = criterion(outputs, labels).item()\n",
    "        if c%64==1:\n",
    "          print(loss)\n",
    "        test_loss += loss # sum up batch loss\n",
    "        test_losses.append(loss)\n",
    "        pred = outputs.argmax(dim=1, keepdim=True) # get the index of the max probability\n",
    "        correct += pred.eq(labels.view_as(pred)).sum().item()\n",
    "\n",
    "test_loss /= len(testloader.dataset)\n",
    "\n",
    "print('\\nTest set: Average loss: {:.4f}, Accuracy: {}/{} ({:.0f}%)\\n'.format(\n",
    "    test_loss, correct, len(testloader.dataset),\n",
    "    100. * correct / len(testloader.dataset)))\n"
   ]
  },
  {
   "attachments": {},
   "cell_type": "markdown",
   "metadata": {},
   "source": [
    "## Question 4.4"
   ]
  },
  {
   "cell_type": "code",
   "execution_count": 26,
   "metadata": {},
   "outputs": [
    {
     "name": "stdout",
     "output_type": "stream",
     "text": [
      "Epoch 1, train_loss: 147.66223912008664\n",
      "Epoch 2, train_loss: 143.78905750710132\n",
      "Epoch 3, train_loss: 136.46576073526438\n",
      "Epoch 4, train_loss: 133.8279621149803\n",
      "Epoch 5, train_loss: 132.56534436839402\n",
      "Epoch 6, train_loss: 131.81679822437027\n",
      "Epoch 7, train_loss: 131.30647006190745\n",
      "Epoch 8, train_loss: 130.93801770788295\n",
      "Epoch 9, train_loss: 130.62831890724075\n",
      "Epoch 10, train_loss: 130.40178864244757\n"
     ]
    }
   ],
   "source": [
    "\n",
    "import torch\n",
    "import torch.nn as nn\n",
    "import torch.optim as optim\n",
    "import torchvision\n",
    "import torchvision.transforms as transforms\n",
    "\n",
    "# Download and load the MNIST dataset using PyTorch\n",
    "transform = transforms.Compose([transforms.ToTensor(), transforms.Normalize((0.5,), (0.5,))])\n",
    "\n",
    "trainset = torchvision.datasets.MNIST(root='./data', train=True, download=True, transform=transform)\n",
    "trainloader = torch.utils.data.DataLoader(trainset, batch_size=64, shuffle=True)\n",
    "\n",
    "testset = torchvision.datasets.MNIST(root='./data', train=False, download=True, transform=transform)\n",
    "testloader = torch.utils.data.DataLoader(testset, batch_size=64, shuffle=False)\n",
    "\n",
    "# Sigmoid activation function\n",
    "def sigmoid(x):\n",
    "    return 1 / (1 + np.exp(-x))\n",
    "\n",
    "# Softmax activation function\n",
    "def softmax(z):\n",
    "    exp_z = np.exp(z)\n",
    "    return exp_z / np.sum(exp_z, axis=0, keepdims=True)\n",
    "\n",
    "# Define the cross-entropy loss function\n",
    "def cross_entropy_loss(y, y_hat):\n",
    "    return -np.sum(y * np.log(y_hat))\n",
    "\n",
    "# Training parameters\n",
    "learning_rate = 0.1\n",
    "num_epochs = 10\n",
    "batch_size = 64\n",
    "\n",
    "# Set the dimensions of the layers\n",
    "input_size = 28*28\n",
    "hidden_size = 300\n",
    "output_size = 10\n",
    "\n",
    "# Initialize the weights randomly\n",
    "W1 = np.zeros(shape=(hidden_size, input_size))\n",
    "W2 = np.zeros(shape=(output_size, hidden_size))\n",
    "\n",
    "# Set the learning rate and number of epochs\n",
    "lr = 0.1\n",
    "n_epochs = 10\n",
    "\n",
    "train_loss_history_zeros = []\n",
    "# Train the network\n",
    "for epoch in range(n_epochs):\n",
    "    train_loss = 0\n",
    "    for i, (X, y) in enumerate(trainloader):\n",
    "        X = X.reshape(-1, input_size)\n",
    "        y = torch.nn.functional.one_hot(y, num_classes=output_size).numpy()\n",
    "        \n",
    "        # Forward pass\n",
    "        z1 = np.dot(X, W1.T)\n",
    "        a1 = sigmoid(z1)\n",
    "        z2 = np.dot(a1, W2.T)\n",
    "        y_hat = softmax(z2.T)\n",
    "        \n",
    "        # Compute the loss\n",
    "        loss = cross_entropy_loss(y.T, y_hat)\n",
    "        train_loss += loss\n",
    "        \n",
    "        # Backward pass\n",
    "        delta2 = y_hat - y.T\n",
    "        delta1 = np.dot(delta2.T, W2) * a1 * (1 - a1)\n",
    "        dW2 = np.dot(delta2, a1) / X.shape[0]\n",
    "        dW1 = np.dot(delta1.T, X) / X.shape[0]\n",
    "        \n",
    "        # Update the weights\n",
    "        W1 -= lr * dW1\n",
    "        W2 -= lr * dW2\n",
    "        \n",
    "    train_loss /= len(trainloader)\n",
    "    train_loss_history_zeros.append(train_loss)\n",
    "    print(f'Epoch {epoch+1}, train_loss: {train_loss}')\n"
   ]
  },
  {
   "cell_type": "code",
   "execution_count": 32,
   "metadata": {},
   "outputs": [
    {
     "name": "stdout",
     "output_type": "stream",
     "text": [
      "[147.66223912008664, 143.78905750710132, 136.46576073526438, 133.8279621149803, 132.56534436839402, 131.81679822437027, 131.30647006190745, 130.93801770788295, 130.62831890724075, 130.40178864244757]\n"
     ]
    },
    {
     "data": {
      "image/png": "[encoded data removed]",
      "text/plain": [
       "<Figure size 640x480 with 1 Axes>"
      ]
     },
     "metadata": {},
     "output_type": "display_data"
    }
   ],
   "source": [
    "# Plot results\n",
    "import matplotlib\n",
    "import matplotlib.pyplot as plt\n",
    "import numpy as np\n",
    "plt.plot(np.arange(1, 11, 1) , train_loss_history_zeros)\n",
    "plt.plot(np.arange(1, 11, 1) , train_loss_history)\n",
    "plt.xlabel(\"Epoch\")\n",
    "plt.ylabel(\"Train loss\")\n",
    "plt.title(\"Zero Weights Initialization Vs Random Weights Initialization\")\n",
    "print(train_loss_history_zeros)"
   ]
  },
  {
   "cell_type": "code",
   "execution_count": 28,
   "metadata": {},
   "outputs": [
    {
     "name": "stdout",
     "output_type": "stream",
     "text": [
      "134.47520574521116\n",
      "-1.1008242255891787\n",
      "129.07517322692786\n"
     ]
    },
    {
     "data": {
      "text/plain": [
       "129.98588954967278"
      ]
     },
     "execution_count": 28,
     "metadata": {},
     "output_type": "execute_result"
    }
   ],
   "source": [
    "testloss = 0\n",
    "\n",
    "prev_loss = 0\n",
    "\n",
    "for i, (X, y) in enumerate(testloader):\n",
    "    X = X.reshape(-1, input_size)\n",
    "    y = torch.nn.functional.one_hot(y, num_classes=output_size).numpy()\n",
    "          \n",
    "    # Forward pass\n",
    "    z1 = np.dot(X, W1.T)\n",
    "    a1 = sigmoid(z1)\n",
    "    z2 = np.dot(a1, W2.T)\n",
    "    y_hat = softmax(z2.T)\n",
    "          \n",
    "    # Compute the loss\n",
    "    loss = cross_entropy_loss(y.T, y_hat)\n",
    "    testloss += loss\n",
    "    if i%64==0:\n",
    "        loss_new_batch = loss-prev_loss\n",
    "        print(loss_new_batch)\n",
    "        prev_loss = loss_new_batch\n",
    "        \n",
    "testloss /= len(testloader)\n",
    "print(testloss)"
   ]
  }
 ],
 "metadata": {
  "kernelspec": {
   "display_name": "ass1",
   "language": "python",
   "name": "python3"
  },
  "language_info": {
   "codemirror_mode": {
    "name": "ipython",
    "version": 3
   },
   "file_extension": ".py",
   "mimetype": "text/x-python",
   "name": "python",
   "nbconvert_exporter": "python",
   "pygments_lexer": "ipython3",
   "version": "3.8.16"
  },
  "orig_nbformat": 4,
  "vscode": {
   "interpreter": {
    "hash": "c9ecf17f59bf2f88f7d928c918f778a08baff8ed8f50ff685488e59aabc9f6b2"
   }
  }
 },
 "nbformat": 4,
 "nbformat_minor": 2
}
